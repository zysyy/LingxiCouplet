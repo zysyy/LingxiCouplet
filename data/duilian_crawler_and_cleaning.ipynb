{
 "cells": [
  {
   "cell_type": "code",
   "execution_count": 10,
   "id": "1110ee42",
   "metadata": {},
   "outputs": [
    {
     "name": "stdout",
     "output_type": "stream",
     "text": [
      "保存完成！\n"
     ]
    }
   ],
   "source": [
    "import requests\n",
    "\n",
    "url = 'https://www.ruiwen.com/word/jingdianduiliandaquan.html'\n",
    "resp = requests.get(url)\n",
    "resp.encoding = 'gb2312'  # 只用于解析，不用于写文件\n",
    "with open('raw.html', 'w', encoding='utf-8') as f:\n",
    "    f.write(resp.text)\n",
    "print(\"保存完成！\")\n"
   ]
  },
  {
   "cell_type": "code",
   "execution_count": 12,
   "id": "0cec1431",
   "metadata": {},
   "outputs": [
    {
     "name": "stdout",
     "output_type": "stream",
     "text": [
      "已提取 254 条对联，保存为 duilian.json\n"
     ]
    }
   ],
   "source": [
    "from bs4 import BeautifulSoup\n",
    "import re\n",
    "import json\n",
    "\n",
    "# Step 1: 提取正文段落内容\n",
    "with open('raw.html', encoding='utf-8') as f:\n",
    "    html = f.read()\n",
    "\n",
    "soup = BeautifulSoup(html, 'html.parser')\n",
    "content = soup.find('div', class_='content')\n",
    "paragraphs = content.find_all('p')\n",
    "\n",
    "# 合并所有段落文本为大字符串\n",
    "text = \"\\n\".join(p.get_text(strip=True) for p in paragraphs)\n",
    "\n",
    "# Step 2: 用正则批量提取对联（适配有横批和无横批）\n",
    "pattern = r'[上上]联[:：](.*?)[；;，, ]*下联[:：](.*?)(?:[；;，, ]*横批[:：](.*?))?[\\n。；;，, ]'\n",
    "\n",
    "results = []\n",
    "for match in re.finditer(pattern, text):\n",
    "    upper = match.group(1).strip()\n",
    "    lower = match.group(2).strip()\n",
    "    banner = match.group(3).strip() if match.group(3) else ''\n",
    "    results.append({'上联': upper, '下联': lower, '横批': banner})\n",
    "\n",
    "# 保存为 json 文件\n",
    "with open('duilian.json', 'w', encoding='utf-8') as f:\n",
    "    json.dump(results, f, ensure_ascii=False, indent=2)\n",
    "\n",
    "print(f'已提取 {len(results)} 条对联，保存为 duilian.json')\n"
   ]
  }
 ],
 "metadata": {
  "kernelspec": {
   "display_name": "labelme",
   "language": "python",
   "name": "python3"
  },
  "language_info": {
   "codemirror_mode": {
    "name": "ipython",
    "version": 3
   },
   "file_extension": ".py",
   "mimetype": "text/x-python",
   "name": "python",
   "nbconvert_exporter": "python",
   "pygments_lexer": "ipython3",
   "version": "3.9.21"
  }
 },
 "nbformat": 4,
 "nbformat_minor": 5
}
